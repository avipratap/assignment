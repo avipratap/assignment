{
 "cells": [
  {
   "cell_type": "code",
   "execution_count": 1,
   "metadata": {},
   "outputs": [
    {
     "name": "stdout",
     "output_type": "stream",
     "text": [
      "Enter your guess:3\n",
      "Your guess is too low.\n"
     ]
    }
   ],
   "source": [
    "# Assignment 2\n",
    "\n",
    "answer = 4\n",
    "guess= int(input(\"Enter your guess:\"))\n",
    "if answer == guess:\n",
    "    print(\"Your guess is correct.\")\n",
    "elif answer < guess:\n",
    "    print(\"Your guess is too high.\")\n",
    "else:\n",
    "    print(\"Your guess is too low.\")"
   ]
  },
  {
   "cell_type": "code",
   "execution_count": 2,
   "metadata": {},
   "outputs": [
    {
     "name": "stdout",
     "output_type": "stream",
     "text": [
      "0\n",
      "5\n",
      "10\n",
      "15\n",
      "20\n",
      "25\n",
      "30\n"
     ]
    }
   ],
   "source": [
    "for i in range(0,31,5):\n",
    "    print(i)"
   ]
  },
  {
   "cell_type": "code",
   "execution_count": 3,
   "metadata": {},
   "outputs": [
    {
     "name": "stdout",
     "output_type": "stream",
     "text": [
      "Enter the numeral limit:5\n",
      "4\n"
     ]
    }
   ],
   "source": [
    "limit= int(input(\"Enter the numeral limit:\"))\n",
    "x=1\n",
    "while x*x < limit:\n",
    "        x+=1   \n",
    "print((x-1)*(x-1))"
   ]
  },
  {
   "cell_type": "code",
   "execution_count": null,
   "metadata": {},
   "outputs": [],
   "source": []
  }
 ],
 "metadata": {
  "kernelspec": {
   "display_name": "Python 3",
   "language": "python",
   "name": "python3"
  },
  "language_info": {
   "codemirror_mode": {
    "name": "ipython",
    "version": 3
   },
   "file_extension": ".py",
   "mimetype": "text/x-python",
   "name": "python",
   "nbconvert_exporter": "python",
   "pygments_lexer": "ipython3",
   "version": "3.7.6"
  }
 },
 "nbformat": 4,
 "nbformat_minor": 4
}
